{
 "cells": [
  {
   "cell_type": "code",
   "execution_count": 95,
   "metadata": {},
   "outputs": [],
   "source": [
    "import pandas as pd\n",
    "from datetime import datetime\n",
    "from tkinter import *\n",
    "from tkinter.filedialog import askopenfilename\n",
    "from rich.console import Console\n",
    "\n",
    "console = Console()"
   ]
  },
  {
   "cell_type": "code",
   "execution_count": 96,
   "metadata": {},
   "outputs": [],
   "source": [
    "output_facial=pd.read_csv(\"C:/Users/louis/Documents/GitHub/Projet_Wirtz/output.csv\")"
   ]
  },
  {
   "cell_type": "code",
   "execution_count": 97,
   "metadata": {},
   "outputs": [
    {
     "data": {
      "text/html": [
       "<div>\n",
       "<style scoped>\n",
       "    .dataframe tbody tr th:only-of-type {\n",
       "        vertical-align: middle;\n",
       "    }\n",
       "\n",
       "    .dataframe tbody tr th {\n",
       "        vertical-align: top;\n",
       "    }\n",
       "\n",
       "    .dataframe thead th {\n",
       "        text-align: right;\n",
       "    }\n",
       "</style>\n",
       "<table border=\"1\" class=\"dataframe\">\n",
       "  <thead>\n",
       "    <tr style=\"text-align: right;\">\n",
       "      <th></th>\n",
       "      <th>Unnamed: 0</th>\n",
       "      <th>names</th>\n",
       "      <th>presence</th>\n",
       "    </tr>\n",
       "  </thead>\n",
       "  <tbody>\n",
       "    <tr>\n",
       "      <th>0</th>\n",
       "      <td>0</td>\n",
       "      <td>LA_NEVE_Louis</td>\n",
       "      <td>12-10-2022-17h53</td>\n",
       "    </tr>\n",
       "    <tr>\n",
       "      <th>1</th>\n",
       "      <td>1</td>\n",
       "      <td>NEUNREUTHER_Alexander</td>\n",
       "      <td>12-10-2022-17h53</td>\n",
       "    </tr>\n",
       "  </tbody>\n",
       "</table>\n",
       "</div>"
      ],
      "text/plain": [
       "   Unnamed: 0                  names          presence\n",
       "0           0          LA_NEVE_Louis  12-10-2022-17h53\n",
       "1           1  NEUNREUTHER_Alexander  12-10-2022-17h53"
      ]
     },
     "execution_count": 97,
     "metadata": {},
     "output_type": "execute_result"
    }
   ],
   "source": [
    "output_facial"
   ]
  },
  {
   "cell_type": "code",
   "execution_count": 98,
   "metadata": {},
   "outputs": [
    {
     "data": {
      "text/html": [
       "<div>\n",
       "<style scoped>\n",
       "    .dataframe tbody tr th:only-of-type {\n",
       "        vertical-align: middle;\n",
       "    }\n",
       "\n",
       "    .dataframe tbody tr th {\n",
       "        vertical-align: top;\n",
       "    }\n",
       "\n",
       "    .dataframe thead th {\n",
       "        text-align: right;\n",
       "    }\n",
       "</style>\n",
       "<table border=\"1\" class=\"dataframe\">\n",
       "  <thead>\n",
       "    <tr style=\"text-align: right;\">\n",
       "      <th></th>\n",
       "      <th>names</th>\n",
       "    </tr>\n",
       "  </thead>\n",
       "  <tbody>\n",
       "    <tr>\n",
       "      <th>0</th>\n",
       "      <td>12-10-2022</td>\n",
       "    </tr>\n",
       "    <tr>\n",
       "      <th>1</th>\n",
       "      <td>Intitulé_du_cours_prof</td>\n",
       "    </tr>\n",
       "    <tr>\n",
       "      <th>2</th>\n",
       "      <td>Horaires</td>\n",
       "    </tr>\n",
       "    <tr>\n",
       "      <th>3</th>\n",
       "      <td>signature_de_l_enseignant</td>\n",
       "    </tr>\n",
       "    <tr>\n",
       "      <th>0</th>\n",
       "      <td>Elève_alternant</td>\n",
       "    </tr>\n",
       "    <tr>\n",
       "      <th>1</th>\n",
       "      <td>NEUNREUTHER_Alexander</td>\n",
       "    </tr>\n",
       "    <tr>\n",
       "      <th>2</th>\n",
       "      <td>LA_NEVE_Louis</td>\n",
       "    </tr>\n",
       "    <tr>\n",
       "      <th>0</th>\n",
       "      <td>Elève_non_alternant</td>\n",
       "    </tr>\n",
       "    <tr>\n",
       "      <th>1</th>\n",
       "      <td>ROUSSAUX Claude-Marie</td>\n",
       "    </tr>\n",
       "  </tbody>\n",
       "</table>\n",
       "</div>"
      ],
      "text/plain": [
       "                       names\n",
       "0                 12-10-2022\n",
       "1     Intitulé_du_cours_prof\n",
       "2                   Horaires\n",
       "3  signature_de_l_enseignant\n",
       "0            Elève_alternant\n",
       "1      NEUNREUTHER_Alexander\n",
       "2              LA_NEVE_Louis\n",
       "0        Elève_non_alternant\n",
       "1      ROUSSAUX Claude-Marie"
      ]
     },
     "execution_count": 98,
     "metadata": {},
     "output_type": "execute_result"
    }
   ],
   "source": [
    "data0 = {'Colonne_0' : [datetime.today().strftime('%d-%m-%Y'),'Intitulé_du_cours_prof','Horaires','signature_de_l_enseignant']}\n",
    "\n",
    "df0 = pd.DataFrame(data0)\n",
    "\n",
    "data1 = {'Colonne_0' :['Elève_alternant','NEUNREUTHER_Alexander','LA_NEVE_Louis']}\n",
    "\n",
    "df1 = pd.DataFrame(data1)\n",
    "\n",
    "data2 = {'Colonne_0' :['Elève_non_alternant','ROUSSAUX Claude-Marie']}\n",
    "df2 = pd.DataFrame(data2)\n",
    "\n",
    "frames = [df0, df1, df2]\n",
    "df = pd.concat(frames)\n",
    "df[\"names\"]=df[\"Colonne_0\"]\n",
    "df=df.drop([\"Colonne_0\"],axis=1)\n",
    "\n",
    "df"
   ]
  },
  {
   "cell_type": "code",
   "execution_count": 99,
   "metadata": {},
   "outputs": [],
   "source": [
    "sousdf1=pd.DataFrame(df[\"names\"][4:])\n",
    "output_facial=output_facial.drop([\"Unnamed: 0\"],axis=1)"
   ]
  },
  {
   "cell_type": "code",
   "execution_count": 100,
   "metadata": {},
   "outputs": [
    {
     "data": {
      "text/html": [
       "<div>\n",
       "<style scoped>\n",
       "    .dataframe tbody tr th:only-of-type {\n",
       "        vertical-align: middle;\n",
       "    }\n",
       "\n",
       "    .dataframe tbody tr th {\n",
       "        vertical-align: top;\n",
       "    }\n",
       "\n",
       "    .dataframe thead th {\n",
       "        text-align: right;\n",
       "    }\n",
       "</style>\n",
       "<table border=\"1\" class=\"dataframe\">\n",
       "  <thead>\n",
       "    <tr style=\"text-align: right;\">\n",
       "      <th></th>\n",
       "      <th>names</th>\n",
       "    </tr>\n",
       "  </thead>\n",
       "  <tbody>\n",
       "    <tr>\n",
       "      <th>0</th>\n",
       "      <td>Elève_alternant</td>\n",
       "    </tr>\n",
       "    <tr>\n",
       "      <th>1</th>\n",
       "      <td>NEUNREUTHER_Alexander</td>\n",
       "    </tr>\n",
       "    <tr>\n",
       "      <th>2</th>\n",
       "      <td>LA_NEVE_Louis</td>\n",
       "    </tr>\n",
       "    <tr>\n",
       "      <th>0</th>\n",
       "      <td>Elève_non_alternant</td>\n",
       "    </tr>\n",
       "    <tr>\n",
       "      <th>1</th>\n",
       "      <td>ROUSSAUX Claude-Marie</td>\n",
       "    </tr>\n",
       "  </tbody>\n",
       "</table>\n",
       "</div>"
      ],
      "text/plain": [
       "                   names\n",
       "0        Elève_alternant\n",
       "1  NEUNREUTHER_Alexander\n",
       "2          LA_NEVE_Louis\n",
       "0    Elève_non_alternant\n",
       "1  ROUSSAUX Claude-Marie"
      ]
     },
     "execution_count": 100,
     "metadata": {},
     "output_type": "execute_result"
    }
   ],
   "source": [
    "sousdf1"
   ]
  },
  {
   "cell_type": "code",
   "execution_count": 101,
   "metadata": {},
   "outputs": [
    {
     "data": {
      "text/html": [
       "<div>\n",
       "<style scoped>\n",
       "    .dataframe tbody tr th:only-of-type {\n",
       "        vertical-align: middle;\n",
       "    }\n",
       "\n",
       "    .dataframe tbody tr th {\n",
       "        vertical-align: top;\n",
       "    }\n",
       "\n",
       "    .dataframe thead th {\n",
       "        text-align: right;\n",
       "    }\n",
       "</style>\n",
       "<table border=\"1\" class=\"dataframe\">\n",
       "  <thead>\n",
       "    <tr style=\"text-align: right;\">\n",
       "      <th></th>\n",
       "      <th>names</th>\n",
       "      <th>presence</th>\n",
       "    </tr>\n",
       "  </thead>\n",
       "  <tbody>\n",
       "    <tr>\n",
       "      <th>0</th>\n",
       "      <td>Elève_alternant</td>\n",
       "      <td>NaN</td>\n",
       "    </tr>\n",
       "    <tr>\n",
       "      <th>1</th>\n",
       "      <td>NEUNREUTHER_Alexander</td>\n",
       "      <td>12-10-2022-17h53</td>\n",
       "    </tr>\n",
       "    <tr>\n",
       "      <th>2</th>\n",
       "      <td>LA_NEVE_Louis</td>\n",
       "      <td>12-10-2022-17h53</td>\n",
       "    </tr>\n",
       "    <tr>\n",
       "      <th>3</th>\n",
       "      <td>Elève_non_alternant</td>\n",
       "      <td>NaN</td>\n",
       "    </tr>\n",
       "    <tr>\n",
       "      <th>4</th>\n",
       "      <td>ROUSSAUX Claude-Marie</td>\n",
       "      <td>NaN</td>\n",
       "    </tr>\n",
       "  </tbody>\n",
       "</table>\n",
       "</div>"
      ],
      "text/plain": [
       "                   names          presence\n",
       "0        Elève_alternant               NaN\n",
       "1  NEUNREUTHER_Alexander  12-10-2022-17h53\n",
       "2          LA_NEVE_Louis  12-10-2022-17h53\n",
       "3    Elève_non_alternant               NaN\n",
       "4  ROUSSAUX Claude-Marie               NaN"
      ]
     },
     "execution_count": 101,
     "metadata": {},
     "output_type": "execute_result"
    }
   ],
   "source": [
    "sousdf1=sousdf1.merge(output_facial, on='names', how='left')\n",
    "sousdf1"
   ]
  },
  {
   "cell_type": "code",
   "execution_count": 31,
   "metadata": {},
   "outputs": [],
   "source": [
    "from datetime import date\n",
    "\n",
    "\n",
    "sousdf1.to_csv(\"C:/Users/louis/Documents/GitHub/Projet_Wirtz/output_modif_\"+str(datetime.today().strftime(\"%Hh%M\"))+\".csv\")"
   ]
  },
  {
   "cell_type": "code",
   "execution_count": 102,
   "metadata": {},
   "outputs": [
    {
     "data": {
      "text/plain": [
       "2"
      ]
     },
     "execution_count": 102,
     "metadata": {},
     "output_type": "execute_result"
    }
   ],
   "source": [
    "#Suite du merge/merge final\n",
    "compteur_lancer= int(input(\"Combien de fois avez vous lancé le programme: \"))\n",
    "compteur_lancer"
   ]
  },
  {
   "cell_type": "code",
   "execution_count": 103,
   "metadata": {},
   "outputs": [
    {
     "data": {
      "text/plain": [
       "2"
      ]
     },
     "execution_count": 103,
     "metadata": {},
     "output_type": "execute_result"
    }
   ],
   "source": [
    "liste_cours=['Travail personnel',\n",
    " ' A 330',\n",
    " ' UE 1. Architectures, modèles et langages de données',\n",
    " ' A 330','']\n",
    "nbr_cours=int(len(liste_cours)/2)\n",
    "nbr_cours"
   ]
  },
  {
   "cell_type": "code",
   "execution_count": 104,
   "metadata": {},
   "outputs": [
    {
     "data": {
      "text/html": [
       "<pre style=\"white-space:pre;overflow-x:auto;line-height:normal;font-family:Menlo,'DejaVu Sans Mono',consolas,'Courier New',monospace\"><span style=\"color: #3399ff; text-decoration-color: #3399ff\">Sélectionnez le 1ème fichier de présence</span>\n",
       "</pre>\n"
      ],
      "text/plain": [
       "\u001b[38;2;51;153;255mSélectionnez le 1ème fichier de présence\u001b[0m\n"
      ]
     },
     "metadata": {},
     "output_type": "display_data"
    },
    {
     "data": {
      "text/html": [
       "<pre style=\"white-space:pre;overflow-x:auto;line-height:normal;font-family:Menlo,'DejaVu Sans Mono',consolas,'Courier New',monospace\"><span style=\"color: #3399ff; text-decoration-color: #3399ff\">Sélectionnez le 2ème fichier de présence</span>\n",
       "</pre>\n"
      ],
      "text/plain": [
       "\u001b[38;2;51;153;255mSélectionnez le 2ème fichier de présence\u001b[0m\n"
      ]
     },
     "metadata": {},
     "output_type": "display_data"
    },
    {
     "data": {
      "text/plain": [
       "['C:/Users/louis/Documents/GitHub/Projet_Wirtz/output_modif_17h02.csv',\n",
       " 'C:/Users/louis/Documents/GitHub/Projet_Wirtz/output_modif_17h56.csv']"
      ]
     },
     "execution_count": 104,
     "metadata": {},
     "output_type": "execute_result"
    }
   ],
   "source": [
    "i=1\n",
    "noms_fichier_pres=[]\n",
    "if compteur_lancer==nbr_cours:\n",
    "    while i <= compteur_lancer:\n",
    "        root = Tk()\n",
    "        root.update()\n",
    "        console.print('Sélectionnez le '+str(i)+'ème fichier de présence', style=\"#3399FF\")\n",
    "        noms_fichier_pres.append(askopenfilename())\n",
    "        root.destroy()\n",
    "        i+=1\n",
    "else:\n",
    "    pass\n",
    "\n",
    "noms_fichier_pres"
   ]
  },
  {
   "cell_type": "code",
   "execution_count": 181,
   "metadata": {},
   "outputs": [],
   "source": [
    "list_csv_doc=[]\n",
    "for a in noms_fichier_pres:\n",
    "    list_csv_doc.append(pd.read_csv(a))\n",
    "\n",
    "for i in range(0,nbr_cours):\n",
    "    list_csv_doc[i]=list_csv_doc[i].drop(\"Unnamed: 0\",axis=1)\n"
   ]
  },
  {
   "cell_type": "code",
   "execution_count": 182,
   "metadata": {},
   "outputs": [
    {
     "data": {
      "text/html": [
       "<div>\n",
       "<style scoped>\n",
       "    .dataframe tbody tr th:only-of-type {\n",
       "        vertical-align: middle;\n",
       "    }\n",
       "\n",
       "    .dataframe tbody tr th {\n",
       "        vertical-align: top;\n",
       "    }\n",
       "\n",
       "    .dataframe thead th {\n",
       "        text-align: right;\n",
       "    }\n",
       "</style>\n",
       "<table border=\"1\" class=\"dataframe\">\n",
       "  <thead>\n",
       "    <tr style=\"text-align: right;\">\n",
       "      <th></th>\n",
       "      <th>names</th>\n",
       "      <th>presence_x</th>\n",
       "      <th>presence_y</th>\n",
       "    </tr>\n",
       "  </thead>\n",
       "  <tbody>\n",
       "    <tr>\n",
       "      <th>0</th>\n",
       "      <td>Elève_alternant</td>\n",
       "      <td>NaN</td>\n",
       "      <td>NaN</td>\n",
       "    </tr>\n",
       "    <tr>\n",
       "      <th>1</th>\n",
       "      <td>NEUNREUTHER_Alexander</td>\n",
       "      <td>12-10-2022-17h00</td>\n",
       "      <td>12-10-2022-17h53</td>\n",
       "    </tr>\n",
       "    <tr>\n",
       "      <th>2</th>\n",
       "      <td>LA_NEVE_Louis</td>\n",
       "      <td>12-10-2022-17h01</td>\n",
       "      <td>12-10-2022-17h53</td>\n",
       "    </tr>\n",
       "    <tr>\n",
       "      <th>3</th>\n",
       "      <td>Elève_non_alternant</td>\n",
       "      <td>NaN</td>\n",
       "      <td>NaN</td>\n",
       "    </tr>\n",
       "    <tr>\n",
       "      <th>4</th>\n",
       "      <td>ROUSSAUX_Claude-Marie</td>\n",
       "      <td>NaN</td>\n",
       "      <td>NaN</td>\n",
       "    </tr>\n",
       "  </tbody>\n",
       "</table>\n",
       "</div>"
      ],
      "text/plain": [
       "                   names        presence_x        presence_y\n",
       "0        Elève_alternant               NaN               NaN\n",
       "1  NEUNREUTHER_Alexander  12-10-2022-17h00  12-10-2022-17h53\n",
       "2          LA_NEVE_Louis  12-10-2022-17h01  12-10-2022-17h53\n",
       "3    Elève_non_alternant               NaN               NaN\n",
       "4  ROUSSAUX_Claude-Marie               NaN               NaN"
      ]
     },
     "execution_count": 182,
     "metadata": {},
     "output_type": "execute_result"
    }
   ],
   "source": [
    "for i in range(1,nbr_cours):\n",
    "    df_final=list_csv_doc[0].merge(list_csv_doc[i], on='names', how='left')\n",
    "df_final"
   ]
  },
  {
   "cell_type": "code",
   "execution_count": 183,
   "metadata": {},
   "outputs": [
    {
     "data": {
      "text/html": [
       "<div>\n",
       "<style scoped>\n",
       "    .dataframe tbody tr th:only-of-type {\n",
       "        vertical-align: middle;\n",
       "    }\n",
       "\n",
       "    .dataframe tbody tr th {\n",
       "        vertical-align: top;\n",
       "    }\n",
       "\n",
       "    .dataframe thead th {\n",
       "        text-align: right;\n",
       "    }\n",
       "</style>\n",
       "<table border=\"1\" class=\"dataframe\">\n",
       "  <thead>\n",
       "    <tr style=\"text-align: right;\">\n",
       "      <th></th>\n",
       "      <th>names</th>\n",
       "      <th>presence_x</th>\n",
       "      <th>presence_y</th>\n",
       "    </tr>\n",
       "  </thead>\n",
       "  <tbody>\n",
       "    <tr>\n",
       "      <th>0</th>\n",
       "      <td>12-10-2022</td>\n",
       "      <td>NaN</td>\n",
       "      <td>NaN</td>\n",
       "    </tr>\n",
       "    <tr>\n",
       "      <th>1</th>\n",
       "      <td>Intitulé_du_cours_prof</td>\n",
       "      <td>NaN</td>\n",
       "      <td>NaN</td>\n",
       "    </tr>\n",
       "    <tr>\n",
       "      <th>2</th>\n",
       "      <td>Horaires</td>\n",
       "      <td>NaN</td>\n",
       "      <td>NaN</td>\n",
       "    </tr>\n",
       "    <tr>\n",
       "      <th>3</th>\n",
       "      <td>signature_de_l_enseignant</td>\n",
       "      <td>NaN</td>\n",
       "      <td>NaN</td>\n",
       "    </tr>\n",
       "    <tr>\n",
       "      <th>4</th>\n",
       "      <td>Elève_alternant</td>\n",
       "      <td>NaN</td>\n",
       "      <td>NaN</td>\n",
       "    </tr>\n",
       "    <tr>\n",
       "      <th>5</th>\n",
       "      <td>NEUNREUTHER_Alexander</td>\n",
       "      <td>12-10-2022-17h00</td>\n",
       "      <td>12-10-2022-17h53</td>\n",
       "    </tr>\n",
       "    <tr>\n",
       "      <th>6</th>\n",
       "      <td>LA_NEVE_Louis</td>\n",
       "      <td>12-10-2022-17h01</td>\n",
       "      <td>12-10-2022-17h53</td>\n",
       "    </tr>\n",
       "    <tr>\n",
       "      <th>7</th>\n",
       "      <td>Elève_non_alternant</td>\n",
       "      <td>NaN</td>\n",
       "      <td>NaN</td>\n",
       "    </tr>\n",
       "    <tr>\n",
       "      <th>8</th>\n",
       "      <td>ROUSSAUX Claude-Marie</td>\n",
       "      <td>NaN</td>\n",
       "      <td>NaN</td>\n",
       "    </tr>\n",
       "  </tbody>\n",
       "</table>\n",
       "</div>"
      ],
      "text/plain": [
       "                       names        presence_x        presence_y\n",
       "0                 12-10-2022               NaN               NaN\n",
       "1     Intitulé_du_cours_prof               NaN               NaN\n",
       "2                   Horaires               NaN               NaN\n",
       "3  signature_de_l_enseignant               NaN               NaN\n",
       "4            Elève_alternant               NaN               NaN\n",
       "5      NEUNREUTHER_Alexander  12-10-2022-17h00  12-10-2022-17h53\n",
       "6              LA_NEVE_Louis  12-10-2022-17h01  12-10-2022-17h53\n",
       "7        Elève_non_alternant               NaN               NaN\n",
       "8      ROUSSAUX Claude-Marie               NaN               NaN"
      ]
     },
     "execution_count": 183,
     "metadata": {},
     "output_type": "execute_result"
    }
   ],
   "source": [
    "fichier_present=df.merge(df_final, on='names', how='left')\n",
    "fichier_present"
   ]
  },
  {
   "cell_type": "code",
   "execution_count": 184,
   "metadata": {},
   "outputs": [],
   "source": [
    "liste_info=['Travail personnel',\n",
    " ' A 330',\n",
    " ' UE 1. Architectures, modèles et langages de données',\n",
    " ' A 330',\n",
    " '']\n",
    "\n",
    "liste_info.remove('')\n",
    "\n",
    "liste_horaire=[['08:00', '09:00'], ['09:00', '12:00']]"
   ]
  },
  {
   "cell_type": "code",
   "execution_count": 185,
   "metadata": {},
   "outputs": [],
   "source": [
    "p=0\n",
    "for i in range(1,fichier_present.shape[1]):\n",
    "    fichier_present.loc[1,fichier_present.columns[i]]=liste_info[p]\n",
    "    p+=2\n",
    "\n",
    "p=0\n",
    "for i in range(1,fichier_present.shape[1]):\n",
    "    fichier_present.loc[2,fichier_present.columns[i]]=str(liste_horaire[p])\n",
    "    p+=1"
   ]
  },
  {
   "cell_type": "code",
   "execution_count": 186,
   "metadata": {},
   "outputs": [
    {
     "data": {
      "text/html": [
       "<div>\n",
       "<style scoped>\n",
       "    .dataframe tbody tr th:only-of-type {\n",
       "        vertical-align: middle;\n",
       "    }\n",
       "\n",
       "    .dataframe tbody tr th {\n",
       "        vertical-align: top;\n",
       "    }\n",
       "\n",
       "    .dataframe thead th {\n",
       "        text-align: right;\n",
       "    }\n",
       "</style>\n",
       "<table border=\"1\" class=\"dataframe\">\n",
       "  <thead>\n",
       "    <tr style=\"text-align: right;\">\n",
       "      <th></th>\n",
       "      <th>names</th>\n",
       "      <th>presence_x</th>\n",
       "      <th>presence_y</th>\n",
       "    </tr>\n",
       "  </thead>\n",
       "  <tbody>\n",
       "    <tr>\n",
       "      <th>0</th>\n",
       "      <td>12-10-2022</td>\n",
       "      <td>NaN</td>\n",
       "      <td>NaN</td>\n",
       "    </tr>\n",
       "    <tr>\n",
       "      <th>1</th>\n",
       "      <td>Intitulé_du_cours_prof</td>\n",
       "      <td>Travail personnel</td>\n",
       "      <td>UE 1. Architectures, modèles et langages de d...</td>\n",
       "    </tr>\n",
       "    <tr>\n",
       "      <th>2</th>\n",
       "      <td>Horaires</td>\n",
       "      <td>['08:00', '09:00']</td>\n",
       "      <td>['09:00', '12:00']</td>\n",
       "    </tr>\n",
       "    <tr>\n",
       "      <th>3</th>\n",
       "      <td>signature_de_l_enseignant</td>\n",
       "      <td>NaN</td>\n",
       "      <td>NaN</td>\n",
       "    </tr>\n",
       "    <tr>\n",
       "      <th>4</th>\n",
       "      <td>Elève_alternant</td>\n",
       "      <td>NaN</td>\n",
       "      <td>NaN</td>\n",
       "    </tr>\n",
       "    <tr>\n",
       "      <th>5</th>\n",
       "      <td>NEUNREUTHER_Alexander</td>\n",
       "      <td>12-10-2022-17h00</td>\n",
       "      <td>12-10-2022-17h53</td>\n",
       "    </tr>\n",
       "    <tr>\n",
       "      <th>6</th>\n",
       "      <td>LA_NEVE_Louis</td>\n",
       "      <td>12-10-2022-17h01</td>\n",
       "      <td>12-10-2022-17h53</td>\n",
       "    </tr>\n",
       "    <tr>\n",
       "      <th>7</th>\n",
       "      <td>Elève_non_alternant</td>\n",
       "      <td>NaN</td>\n",
       "      <td>NaN</td>\n",
       "    </tr>\n",
       "    <tr>\n",
       "      <th>8</th>\n",
       "      <td>ROUSSAUX Claude-Marie</td>\n",
       "      <td>NaN</td>\n",
       "      <td>NaN</td>\n",
       "    </tr>\n",
       "  </tbody>\n",
       "</table>\n",
       "</div>"
      ],
      "text/plain": [
       "                       names          presence_x  \\\n",
       "0                 12-10-2022                 NaN   \n",
       "1     Intitulé_du_cours_prof   Travail personnel   \n",
       "2                   Horaires  ['08:00', '09:00']   \n",
       "3  signature_de_l_enseignant                 NaN   \n",
       "4            Elève_alternant                 NaN   \n",
       "5      NEUNREUTHER_Alexander    12-10-2022-17h00   \n",
       "6              LA_NEVE_Louis    12-10-2022-17h01   \n",
       "7        Elève_non_alternant                 NaN   \n",
       "8      ROUSSAUX Claude-Marie                 NaN   \n",
       "\n",
       "                                          presence_y  \n",
       "0                                                NaN  \n",
       "1   UE 1. Architectures, modèles et langages de d...  \n",
       "2                                 ['09:00', '12:00']  \n",
       "3                                                NaN  \n",
       "4                                                NaN  \n",
       "5                                   12-10-2022-17h53  \n",
       "6                                   12-10-2022-17h53  \n",
       "7                                                NaN  \n",
       "8                                                NaN  "
      ]
     },
     "execution_count": 186,
     "metadata": {},
     "output_type": "execute_result"
    }
   ],
   "source": [
    "fichier_present"
   ]
  }
 ],
 "metadata": {
  "kernelspec": {
   "display_name": "Python 3.9.7 ('base')",
   "language": "python",
   "name": "python3"
  },
  "language_info": {
   "codemirror_mode": {
    "name": "ipython",
    "version": 3
   },
   "file_extension": ".py",
   "mimetype": "text/x-python",
   "name": "python",
   "nbconvert_exporter": "python",
   "pygments_lexer": "ipython3",
   "version": "3.9.7"
  },
  "orig_nbformat": 4,
  "vscode": {
   "interpreter": {
    "hash": "cee2a8bf78ed58fe7d4a6da4c01dc73c50fe79a52336feed85a35ce76368bd76"
   }
  }
 },
 "nbformat": 4,
 "nbformat_minor": 2
}
