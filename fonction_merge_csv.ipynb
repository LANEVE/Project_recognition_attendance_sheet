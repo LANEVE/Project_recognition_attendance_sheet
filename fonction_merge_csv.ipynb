{
 "cells": [
  {
   "cell_type": "code",
   "execution_count": 2,
   "metadata": {},
   "outputs": [],
   "source": [
    "import pandas as pd\n",
    "from datetime import datetime\n",
    "from tkinter import *\n",
    "from tkinter.filedialog import askopenfilename\n",
    "from rich.console import Console\n",
    "\n",
    "console = Console()"
   ]
  },
  {
   "cell_type": "code",
   "execution_count": 2,
   "metadata": {},
   "outputs": [],
   "source": [
    "output_facial=pd.read_csv(\"C:/Users/louis/Documents/GitHub/Projet_Wirtz/output.csv\")"
   ]
  },
  {
   "cell_type": "code",
   "execution_count": 3,
   "metadata": {},
   "outputs": [
    {
     "data": {
      "text/html": [
       "<div>\n",
       "<style scoped>\n",
       "    .dataframe tbody tr th:only-of-type {\n",
       "        vertical-align: middle;\n",
       "    }\n",
       "\n",
       "    .dataframe tbody tr th {\n",
       "        vertical-align: top;\n",
       "    }\n",
       "\n",
       "    .dataframe thead th {\n",
       "        text-align: right;\n",
       "    }\n",
       "</style>\n",
       "<table border=\"1\" class=\"dataframe\">\n",
       "  <thead>\n",
       "    <tr style=\"text-align: right;\">\n",
       "      <th></th>\n",
       "      <th>Unnamed: 0</th>\n",
       "      <th>names</th>\n",
       "      <th>presence</th>\n",
       "    </tr>\n",
       "  </thead>\n",
       "  <tbody>\n",
       "    <tr>\n",
       "      <th>0</th>\n",
       "      <td>0</td>\n",
       "      <td>NEUNREUTHER_Alexander</td>\n",
       "      <td>12-10-2022-17h00</td>\n",
       "    </tr>\n",
       "    <tr>\n",
       "      <th>1</th>\n",
       "      <td>1</td>\n",
       "      <td>LA_NEVE_Louis</td>\n",
       "      <td>12-10-2022-17h01</td>\n",
       "    </tr>\n",
       "  </tbody>\n",
       "</table>\n",
       "</div>"
      ],
      "text/plain": [
       "   Unnamed: 0                  names          presence\n",
       "0           0  NEUNREUTHER_Alexander  12-10-2022-17h00\n",
       "1           1          LA_NEVE_Louis  12-10-2022-17h01"
      ]
     },
     "execution_count": 3,
     "metadata": {},
     "output_type": "execute_result"
    }
   ],
   "source": [
    "output_facial"
   ]
  },
  {
   "cell_type": "code",
   "execution_count": 4,
   "metadata": {},
   "outputs": [
    {
     "data": {
      "text/html": [
       "<div>\n",
       "<style scoped>\n",
       "    .dataframe tbody tr th:only-of-type {\n",
       "        vertical-align: middle;\n",
       "    }\n",
       "\n",
       "    .dataframe tbody tr th {\n",
       "        vertical-align: top;\n",
       "    }\n",
       "\n",
       "    .dataframe thead th {\n",
       "        text-align: right;\n",
       "    }\n",
       "</style>\n",
       "<table border=\"1\" class=\"dataframe\">\n",
       "  <thead>\n",
       "    <tr style=\"text-align: right;\">\n",
       "      <th></th>\n",
       "      <th>Colonne_1</th>\n",
       "      <th>Colonne_2</th>\n",
       "      <th>Colonne_3</th>\n",
       "      <th>Colonne_4</th>\n",
       "      <th>Colonne_5</th>\n",
       "      <th>names</th>\n",
       "    </tr>\n",
       "  </thead>\n",
       "  <tbody>\n",
       "    <tr>\n",
       "      <th>0</th>\n",
       "      <td></td>\n",
       "      <td></td>\n",
       "      <td></td>\n",
       "      <td></td>\n",
       "      <td></td>\n",
       "      <td>12-10-2022</td>\n",
       "    </tr>\n",
       "    <tr>\n",
       "      <th>1</th>\n",
       "      <td></td>\n",
       "      <td></td>\n",
       "      <td></td>\n",
       "      <td></td>\n",
       "      <td></td>\n",
       "      <td>Intitulé_du_cours_prof</td>\n",
       "    </tr>\n",
       "    <tr>\n",
       "      <th>2</th>\n",
       "      <td></td>\n",
       "      <td></td>\n",
       "      <td></td>\n",
       "      <td></td>\n",
       "      <td></td>\n",
       "      <td>Horaires</td>\n",
       "    </tr>\n",
       "    <tr>\n",
       "      <th>3</th>\n",
       "      <td>Signature1</td>\n",
       "      <td>Signature2</td>\n",
       "      <td>Signature3</td>\n",
       "      <td>Signature4</td>\n",
       "      <td>Signature4</td>\n",
       "      <td>signature_de_l_enseignant</td>\n",
       "    </tr>\n",
       "    <tr>\n",
       "      <th>0</th>\n",
       "      <td></td>\n",
       "      <td></td>\n",
       "      <td></td>\n",
       "      <td></td>\n",
       "      <td></td>\n",
       "      <td>Elève_alternant</td>\n",
       "    </tr>\n",
       "    <tr>\n",
       "      <th>1</th>\n",
       "      <td>Signature1</td>\n",
       "      <td>Signature2</td>\n",
       "      <td>Signature3</td>\n",
       "      <td>Signature4</td>\n",
       "      <td>Signature5</td>\n",
       "      <td>Alexander_NEUNREUTHER</td>\n",
       "    </tr>\n",
       "    <tr>\n",
       "      <th>2</th>\n",
       "      <td>Signature1</td>\n",
       "      <td>Signature2</td>\n",
       "      <td>Signature3</td>\n",
       "      <td>Signature4</td>\n",
       "      <td>Signature5</td>\n",
       "      <td>Louis_LA_NEVE</td>\n",
       "    </tr>\n",
       "    <tr>\n",
       "      <th>0</th>\n",
       "      <td></td>\n",
       "      <td></td>\n",
       "      <td></td>\n",
       "      <td></td>\n",
       "      <td></td>\n",
       "      <td>Elève_non_alternant</td>\n",
       "    </tr>\n",
       "    <tr>\n",
       "      <th>1</th>\n",
       "      <td>Signature1</td>\n",
       "      <td>Signature2</td>\n",
       "      <td>Signature3</td>\n",
       "      <td>Signature4</td>\n",
       "      <td>Signature5</td>\n",
       "      <td>ROUSSAUX Claude-Marie</td>\n",
       "    </tr>\n",
       "  </tbody>\n",
       "</table>\n",
       "</div>"
      ],
      "text/plain": [
       "    Colonne_1   Colonne_2   Colonne_3   Colonne_4   Colonne_5  \\\n",
       "0                                                               \n",
       "1                                                               \n",
       "2                                                               \n",
       "3  Signature1  Signature2  Signature3  Signature4  Signature4   \n",
       "0                                                               \n",
       "1  Signature1  Signature2  Signature3  Signature4  Signature5   \n",
       "2  Signature1  Signature2  Signature3  Signature4  Signature5   \n",
       "0                                                               \n",
       "1  Signature1  Signature2  Signature3  Signature4  Signature5   \n",
       "\n",
       "                       names  \n",
       "0                 12-10-2022  \n",
       "1     Intitulé_du_cours_prof  \n",
       "2                   Horaires  \n",
       "3  signature_de_l_enseignant  \n",
       "0            Elève_alternant  \n",
       "1      Alexander_NEUNREUTHER  \n",
       "2              Louis_LA_NEVE  \n",
       "0        Elève_non_alternant  \n",
       "1      ROUSSAUX Claude-Marie  "
      ]
     },
     "execution_count": 4,
     "metadata": {},
     "output_type": "execute_result"
    }
   ],
   "source": [
    "data0 = {'Colonne_0' : [datetime.today().strftime('%d-%m-%Y'),'Intitulé_du_cours_prof','Horaires','signature_de_l_enseignant'],\n",
    "        'Colonne_1' : ['',\"\",\"\",'Signature1'],\n",
    "        'Colonne_2' : ['',\"\",\"\",'Signature2'],\n",
    "        'Colonne_3' : ['',\"\",\"\",'Signature3'],\n",
    "        'Colonne_4' : ['',\"\",\"\",'Signature4'],\n",
    "        'Colonne_5' : ['',\"\",\"\",'Signature4']}\n",
    "\n",
    "df0 = pd.DataFrame(data0)\n",
    "\n",
    "data1 = {'Colonne_0' :['Elève_alternant','Alexander_NEUNREUTHER','Louis_LA_NEVE'],\n",
    "        'Colonne_1' : ['','Signature1','Signature1'],\n",
    "        'Colonne_2' : ['','Signature2','Signature2'],\n",
    "        'Colonne_3' : ['','Signature3','Signature3'],\n",
    "        'Colonne_4' : ['','Signature4','Signature4'],\n",
    "        'Colonne_5' : ['','Signature5','Signature5']}\n",
    "\n",
    "df1 = pd.DataFrame(data1)\n",
    "\n",
    "data2 = {'Colonne_0' :['Elève_non_alternant','ROUSSAUX Claude-Marie'],\n",
    "        'Colonne_1' : ['','Signature1'],\n",
    "        'Colonne_2' : ['','Signature2'],\n",
    "        'Colonne_3' : ['','Signature3'],\n",
    "        'Colonne_4' : ['','Signature4'],\n",
    "        'Colonne_5' : ['','Signature5']}\n",
    "df2 = pd.DataFrame(data2)\n",
    "\n",
    "frames = [df0, df1, df2]\n",
    "df = pd.concat(frames)\n",
    "df[\"names\"]=df[\"Colonne_0\"]\n",
    "df=df.drop([\"Colonne_0\"],axis=1)\n",
    "\n",
    "df"
   ]
  },
  {
   "cell_type": "code",
   "execution_count": 5,
   "metadata": {},
   "outputs": [],
   "source": [
    "sousdf1=pd.DataFrame(df[\"names\"][4:])\n",
    "output_facial=output_facial.drop([\"Unnamed: 0\"],axis=1)"
   ]
  },
  {
   "cell_type": "code",
   "execution_count": 9,
   "metadata": {},
   "outputs": [
    {
     "data": {
      "text/html": [
       "<div>\n",
       "<style scoped>\n",
       "    .dataframe tbody tr th:only-of-type {\n",
       "        vertical-align: middle;\n",
       "    }\n",
       "\n",
       "    .dataframe tbody tr th {\n",
       "        vertical-align: top;\n",
       "    }\n",
       "\n",
       "    .dataframe thead th {\n",
       "        text-align: right;\n",
       "    }\n",
       "</style>\n",
       "<table border=\"1\" class=\"dataframe\">\n",
       "  <thead>\n",
       "    <tr style=\"text-align: right;\">\n",
       "      <th></th>\n",
       "      <th>names</th>\n",
       "    </tr>\n",
       "  </thead>\n",
       "  <tbody>\n",
       "    <tr>\n",
       "      <th>0</th>\n",
       "      <td>Elève_alternant</td>\n",
       "    </tr>\n",
       "    <tr>\n",
       "      <th>1</th>\n",
       "      <td>Alexander_NEUNREUTHER</td>\n",
       "    </tr>\n",
       "    <tr>\n",
       "      <th>2</th>\n",
       "      <td>Louis_LA_NEVE</td>\n",
       "    </tr>\n",
       "    <tr>\n",
       "      <th>0</th>\n",
       "      <td>Elève_non_alternant</td>\n",
       "    </tr>\n",
       "    <tr>\n",
       "      <th>1</th>\n",
       "      <td>ROUSSAUX Claude-Marie</td>\n",
       "    </tr>\n",
       "  </tbody>\n",
       "</table>\n",
       "</div>"
      ],
      "text/plain": [
       "                   names\n",
       "0        Elève_alternant\n",
       "1  Alexander_NEUNREUTHER\n",
       "2          Louis_LA_NEVE\n",
       "0    Elève_non_alternant\n",
       "1  ROUSSAUX Claude-Marie"
      ]
     },
     "execution_count": 9,
     "metadata": {},
     "output_type": "execute_result"
    }
   ],
   "source": [
    "sousdf1"
   ]
  },
  {
   "cell_type": "code",
   "execution_count": 6,
   "metadata": {},
   "outputs": [
    {
     "data": {
      "text/html": [
       "<div>\n",
       "<style scoped>\n",
       "    .dataframe tbody tr th:only-of-type {\n",
       "        vertical-align: middle;\n",
       "    }\n",
       "\n",
       "    .dataframe tbody tr th {\n",
       "        vertical-align: top;\n",
       "    }\n",
       "\n",
       "    .dataframe thead th {\n",
       "        text-align: right;\n",
       "    }\n",
       "</style>\n",
       "<table border=\"1\" class=\"dataframe\">\n",
       "  <thead>\n",
       "    <tr style=\"text-align: right;\">\n",
       "      <th></th>\n",
       "      <th>names</th>\n",
       "      <th>presence</th>\n",
       "    </tr>\n",
       "  </thead>\n",
       "  <tbody>\n",
       "    <tr>\n",
       "      <th>0</th>\n",
       "      <td>Elève_alternant</td>\n",
       "      <td>NaN</td>\n",
       "    </tr>\n",
       "    <tr>\n",
       "      <th>1</th>\n",
       "      <td>Alexander_NEUNREUTHER</td>\n",
       "      <td>NaN</td>\n",
       "    </tr>\n",
       "    <tr>\n",
       "      <th>2</th>\n",
       "      <td>Louis_LA_NEVE</td>\n",
       "      <td>NaN</td>\n",
       "    </tr>\n",
       "    <tr>\n",
       "      <th>3</th>\n",
       "      <td>Elève_non_alternant</td>\n",
       "      <td>NaN</td>\n",
       "    </tr>\n",
       "    <tr>\n",
       "      <th>4</th>\n",
       "      <td>ROUSSAUX Claude-Marie</td>\n",
       "      <td>NaN</td>\n",
       "    </tr>\n",
       "  </tbody>\n",
       "</table>\n",
       "</div>"
      ],
      "text/plain": [
       "                   names presence\n",
       "0        Elève_alternant      NaN\n",
       "1  Alexander_NEUNREUTHER      NaN\n",
       "2          Louis_LA_NEVE      NaN\n",
       "3    Elève_non_alternant      NaN\n",
       "4  ROUSSAUX Claude-Marie      NaN"
      ]
     },
     "execution_count": 6,
     "metadata": {},
     "output_type": "execute_result"
    }
   ],
   "source": [
    "sousdf1=sousdf1.merge(output_facial, on='names', how='left')\n",
    "sousdf1"
   ]
  },
  {
   "cell_type": "code",
   "execution_count": 14,
   "metadata": {},
   "outputs": [],
   "source": [
    "from datetime import date\n",
    "\n",
    "\n",
    "sousdf1.to_csv(\"C:/Users/louis/Documents/GitHub/Projet_Wirtz/output_modif_\"+str(datetime.today().strftime(\"%Hh%M\"))+\".csv\")"
   ]
  },
  {
   "cell_type": "code",
   "execution_count": 1,
   "metadata": {},
   "outputs": [
    {
     "data": {
      "text/plain": [
       "2"
      ]
     },
     "execution_count": 1,
     "metadata": {},
     "output_type": "execute_result"
    }
   ],
   "source": [
    "#Suite du merge/merge final\n",
    "compteur_lancer= int(input(\"Combien de fois avez vous lancé le programme: \"))\n",
    "compteur_lancer"
   ]
  },
  {
   "cell_type": "code",
   "execution_count": 4,
   "metadata": {},
   "outputs": [
    {
     "data": {
      "text/plain": [
       "2"
      ]
     },
     "execution_count": 4,
     "metadata": {},
     "output_type": "execute_result"
    }
   ],
   "source": [
    "liste_cours=['Travail personnel',\n",
    " ' A 330',\n",
    " ' UE 1. Architectures, modèles et langages de données',\n",
    " ' A 330','']\n",
    "nbr_cours=int(len(liste_cours)/2)\n",
    "nbr_cours"
   ]
  },
  {
   "cell_type": "code",
   "execution_count": 5,
   "metadata": {},
   "outputs": [
    {
     "data": {
      "text/html": [
       "<pre style=\"white-space:pre;overflow-x:auto;line-height:normal;font-family:Menlo,'DejaVu Sans Mono',consolas,'Courier New',monospace\"><span style=\"color: #3399ff; text-decoration-color: #3399ff\">Sélectionnez le 1ème fichier de présence</span>\n",
       "</pre>\n"
      ],
      "text/plain": [
       "\u001b[38;2;51;153;255mSélectionnez le 1ème fichier de présence\u001b[0m\n"
      ]
     },
     "metadata": {},
     "output_type": "display_data"
    },
    {
     "data": {
      "text/html": [
       "<pre style=\"white-space:pre;overflow-x:auto;line-height:normal;font-family:Menlo,'DejaVu Sans Mono',consolas,'Courier New',monospace\"><span style=\"color: #3399ff; text-decoration-color: #3399ff\">Sélectionnez le 2ème fichier de présence</span>\n",
       "</pre>\n"
      ],
      "text/plain": [
       "\u001b[38;2;51;153;255mSélectionnez le 2ème fichier de présence\u001b[0m\n"
      ]
     },
     "metadata": {},
     "output_type": "display_data"
    }
   ],
   "source": [
    "i=1\n",
    "noms_fichier_pres=[]\n",
    "if compteur_lancer==nbr_cours:\n",
    "    while i <= compteur_lancer:\n",
    "        root = Tk()\n",
    "        root.update()\n",
    "        console.print('Sélectionnez le '+str(i)+'ème fichier de présence', style=\"#3399FF\")\n",
    "        noms_fichier_pres.append(askopenfilename())\n",
    "        root.destroy()\n",
    "        i+=1\n",
    "else:\n",
    "    pass"
   ]
  },
  {
   "cell_type": "code",
   "execution_count": 6,
   "metadata": {},
   "outputs": [
    {
     "data": {
      "text/plain": [
       "['C:/Users/louis/Documents/GitHub/Projet_Wirtz/output.csv',\n",
       " 'C:/Users/louis/Documents/GitHub/Projet_Wirtz/output_modif_17h02.csv']"
      ]
     },
     "execution_count": 6,
     "metadata": {},
     "output_type": "execute_result"
    }
   ],
   "source": [
    "noms_fichier_pres"
   ]
  },
  {
   "cell_type": "code",
   "execution_count": null,
   "metadata": {},
   "outputs": [],
   "source": [
    "for (i in filenames){  \n",
    "   name <- gsub(\"-\",\".\",i)\n",
    "   name <- gsub(\".csv\",\"\",name)  \n",
    "   i <- paste(\".\\\\\",i,sep=\"\")\n",
    "   assign(name,read.csv(i, header=FALSE)\n",
    "}\n"
   ]
  }
 ],
 "metadata": {
  "kernelspec": {
   "display_name": "Python 3.9.7 ('base')",
   "language": "python",
   "name": "python3"
  },
  "language_info": {
   "codemirror_mode": {
    "name": "ipython",
    "version": 3
   },
   "file_extension": ".py",
   "mimetype": "text/x-python",
   "name": "python",
   "nbconvert_exporter": "python",
   "pygments_lexer": "ipython3",
   "version": "3.9.7"
  },
  "orig_nbformat": 4,
  "vscode": {
   "interpreter": {
    "hash": "cee2a8bf78ed58fe7d4a6da4c01dc73c50fe79a52336feed85a35ce76368bd76"
   }
  }
 },
 "nbformat": 4,
 "nbformat_minor": 2
}
